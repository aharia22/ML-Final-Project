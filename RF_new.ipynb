{
  "nbformat": 4,
  "nbformat_minor": 0,
  "metadata": {
    "colab": {
      "provenance": []
    },
    "kernelspec": {
      "name": "python3",
      "display_name": "Python 3"
    },
    "language_info": {
      "name": "python"
    }
  },
  "cells": [
    {
      "cell_type": "code",
      "source": [
        "from google.colab import drive\n",
        "drive.mount('/content/drive')"
      ],
      "metadata": {
        "colab": {
          "base_uri": "https://localhost:8080/"
        },
        "id": "Jn6yCP-CAtHM",
        "outputId": "c15446a3-ec4f-44a8-fa67-087343a945bb"
      },
      "execution_count": 1,
      "outputs": [
        {
          "output_type": "stream",
          "name": "stdout",
          "text": [
            "Mounted at /content/drive\n"
          ]
        }
      ]
    },
    {
      "cell_type": "code",
      "execution_count": 7,
      "metadata": {
        "colab": {
          "base_uri": "https://localhost:8080/"
        },
        "id": "YszPeiTJ7_9Z",
        "outputId": "cea0b477-e240-46af-882e-01d27440a13e"
      },
      "outputs": [
        {
          "output_type": "stream",
          "name": "stdout",
          "text": [
            "SCLC Original dataset shape: Counter({0.0: 18857, 1.0: 921})\n",
            "SCLC Resampled dataset shape: Counter({0.0: 921, 1.0: 921})\n",
            "NSCLC Original dataset shape: Counter({0.0: 19087, 1.0: 691})\n",
            "NSCLC Resampled dataset shape: Counter({0.0: 691, 1.0: 691})\n"
          ]
        }
      ],
      "source": [
        "import pandas as pd\n",
        "from sklearn.preprocessing import StandardScaler\n",
        "from imblearn.under_sampling import NearMiss\n",
        "from sklearn.ensemble import RandomForestClassifier\n",
        "from sklearn.model_selection import RandomizedSearchCV, train_test_split\n",
        "from sklearn.metrics import classification_report\n",
        "from collections import Counter\n",
        "import numpy as np\n",
        "\n",
        "# Load dataset\n",
        "dataset = pd.read_csv('/content/drive/My Drive/labelled_data.csv')\n",
        "\n",
        "# Fill missing values\n",
        "dataset.update(dataset[['NSCLC', 'SCLC']].fillna(0))\n",
        "\n",
        "# Selecting features and labels\n",
        "features = dataset.iloc[:, [2, 3, 5]]\n",
        "label_sclc = dataset['SCLC']\n",
        "label_nsclc = dataset['NSCLC']\n",
        "\n",
        "# Applying NearMiss Algorithm\n",
        "near_miss = NearMiss()\n",
        "print(f'SCLC Original dataset shape: {Counter(label_sclc)}')\n",
        "features_sclc, target_sclc = near_miss.fit_resample(features, label_sclc)\n",
        "print(f'SCLC Resampled dataset shape: {Counter(target_sclc)}')\n",
        "\n",
        "print(f'NSCLC Original dataset shape: {Counter(label_nsclc)}')\n",
        "features_nsclc, target_nsclc = near_miss.fit_resample(features, label_nsclc)\n",
        "print(f'NSCLC Resampled dataset shape: {Counter(target_nsclc)}')\n",
        "\n",
        "# Splitting data into training and testing sets\n",
        "x_train_sclc, x_test_sclc, y_train_sclc, y_test_sclc = train_test_split(features_sclc, target_sclc, test_size=0.2, random_state=42)\n",
        "x_train_nsclc, x_test_nsclc, y_train_nsclc, y_test_nsclc = train_test_split(features_nsclc, target_nsclc, test_size=0.2, random_state=42)\n",
        "\n",
        "# Standardizing features\n",
        "scaler_sclc = StandardScaler()\n",
        "x_train_sclc = scaler_sclc.fit_transform(x_train_sclc)\n",
        "x_test_sclc = scaler_sclc.transform(x_test_sclc)\n",
        "\n",
        "scaler_nsclc = StandardScaler()\n",
        "x_train_nsclc = scaler_nsclc.fit_transform(x_train_nsclc)\n",
        "x_test_nsclc = scaler_nsclc.transform(x_test_nsclc)"
      ]
    },
    {
      "cell_type": "code",
      "source": [
        "# Hyperparameter grid setup for Random Forest\n",
        "hyperparameters = {\n",
        "    'n_estimators': [int(x) for x in np.linspace(start=200, stop=2000, num=10)],\n",
        "    'max_features': ['auto', 'sqrt', 'log2'],\n",
        "    'max_depth': [int(x) for x in np.linspace(10, 110, num=11)] + [None],\n",
        "    'min_samples_split': [2, 5, 10],\n",
        "    'min_samples_leaf': [1, 2, 4],\n",
        "    'bootstrap': [True, False]\n",
        "}\n",
        "\n",
        "# Randomized Search for Hyperparameter Tuning for SCLC\n",
        "rf_classifier_sclc = RandomForestClassifier()\n",
        "random_search_sclc = RandomizedSearchCV(\n",
        "    estimator=rf_classifier_sclc, param_distributions=hyperparameters, n_iter=100, cv=3, verbose=2, n_jobs=-1\n",
        ")\n",
        "random_search_sclc.fit(x_train_sclc, y_train_sclc)\n",
        "optimal_params_sclc = random_search_sclc.best_params_\n",
        "\n",
        "# RandomForest with Tuned Parameters for SCLC\n",
        "rf_optimized_sclc = RandomForestClassifier(**optimal_params_sclc)\n",
        "rf_optimized_sclc.fit(x_train_sclc, y_train_sclc)\n",
        "predictions_sclc = rf_optimized_sclc.predict(x_test_sclc)\n",
        "print(\"\\n=== Classification Report for SCLC ===\")\n",
        "print(classification_report(y_test_sclc, predictions_sclc))\n",
        "\n",
        "# Randomized Search for Hyperparameter Tuning for NSCLC\n",
        "rf_classifier_nsclc = RandomForestClassifier()\n",
        "random_search_nsclc = RandomizedSearchCV(\n",
        "    estimator=rf_classifier_nsclc, param_distributions=hyperparameters, n_iter=100, cv=3, verbose=2, n_jobs=-1\n",
        ")\n",
        "random_search_nsclc.fit(x_train_nsclc, y_train_nsclc)\n",
        "optimal_params_nsclc = random_search_nsclc.best_params_\n",
        "\n",
        "# RandomForest with Tuned Parameters for NSCLC\n",
        "rf_optimized_nsclc = RandomForestClassifier(**optimal_params_nsclc)\n",
        "rf_optimized_nsclc.fit(x_train_nsclc, y_train_nsclc)\n",
        "predictions_nsclc = rf_optimized_nsclc.predict(x_test_nsclc)\n",
        "print(\"\\n=== Classification Report for NSCLC ===\")\n",
        "print(classification_report(y_test_nsclc, predictions_nsclc))"
      ],
      "metadata": {
        "colab": {
          "base_uri": "https://localhost:8080/"
        },
        "id": "4l79BKXzA653",
        "outputId": "eac9ac69-1a18-42a7-fc5a-0c794d7b49ab"
      },
      "execution_count": 8,
      "outputs": [
        {
          "output_type": "stream",
          "name": "stdout",
          "text": [
            "Fitting 3 folds for each of 100 candidates, totalling 300 fits\n",
            "\n",
            "=== Classification Report for SCLC ===\n",
            "              precision    recall  f1-score   support\n",
            "\n",
            "         0.0       0.82      0.85      0.83       188\n",
            "         1.0       0.84      0.80      0.82       181\n",
            "\n",
            "    accuracy                           0.83       369\n",
            "   macro avg       0.83      0.83      0.83       369\n",
            "weighted avg       0.83      0.83      0.83       369\n",
            "\n",
            "Fitting 3 folds for each of 100 candidates, totalling 300 fits\n"
          ]
        },
        {
          "output_type": "stream",
          "name": "stderr",
          "text": [
            "/usr/local/lib/python3.10/dist-packages/sklearn/ensemble/_forest.py:424: FutureWarning: `max_features='auto'` has been deprecated in 1.1 and will be removed in 1.3. To keep the past behaviour, explicitly set `max_features='sqrt'` or remove this parameter as it is also the default value for RandomForestClassifiers and ExtraTreesClassifiers.\n",
            "  warn(\n",
            "/usr/local/lib/python3.10/dist-packages/sklearn/ensemble/_forest.py:424: FutureWarning: `max_features='auto'` has been deprecated in 1.1 and will be removed in 1.3. To keep the past behaviour, explicitly set `max_features='sqrt'` or remove this parameter as it is also the default value for RandomForestClassifiers and ExtraTreesClassifiers.\n",
            "  warn(\n"
          ]
        },
        {
          "output_type": "stream",
          "name": "stdout",
          "text": [
            "\n",
            "=== Classification Report for NSCLC ===\n",
            "              precision    recall  f1-score   support\n",
            "\n",
            "         0.0       0.79      0.90      0.84       142\n",
            "         1.0       0.88      0.74      0.80       135\n",
            "\n",
            "    accuracy                           0.82       277\n",
            "   macro avg       0.83      0.82      0.82       277\n",
            "weighted avg       0.83      0.82      0.82       277\n",
            "\n"
          ]
        }
      ]
    }
  ]
}