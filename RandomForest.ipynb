{
 "cells": [
  {
   "cell_type": "code",
   "execution_count": null,
   "id": "d2b1d10d-868f-4b29-b48a-8482c2e887b9",
   "metadata": {},
   "outputs": [],
   "source": [
    "import pandas as pd\n",
    "import numpy as np\n",
    "import seaborn as sns\n",
    "import matplotlib.pyplot as plt\n",
    "from imblearn.over_sampling import SMOTE\n",
    "from sklearn.model_selection import train_test_split, GridSearchCV\n",
    "from sklearn.preprocessing import StandardScaler\n",
    "from sklearn.ensemble import RandomForestClassifier\n",
    "from imblearn.pipeline import Pipeline as ImbPipeline\n",
    "from sklearn.metrics import classification_report\n",
    "import warnings\n",
    "warnings.filterwarnings('ignore')\n",
    "warnings.filterwarnings(\"ignore\", category=UserWarning, module=\"joblib\")\n",
    "warnings.filterwarnings(\"ignore\", category=UserWarning, module=\"sklearn\")\n",
    "warnings.filterwarnings('ignore', category=UserWarning, message=\"Line Search failed\")"
   ]
  },
  {
   "cell_type": "code",
   "execution_count": null,
   "id": "63597d88-f48a-41c0-9afc-1d7199707141",
   "metadata": {},
   "outputs": [],
   "source": [
    "#load data and preprocess\n",
    "data = pd.read_csv('final_result1.csv').fillna(0)\n",
    "print(data.head())\n",
    "print(data.isnull().sum())"
   ]
  },
  {
   "cell_type": "code",
   "execution_count": null,
   "id": "e2d61a8f-9b18-4b6e-b776-c4d0d9e6b891",
   "metadata": {},
   "outputs": [],
   "source": [
    "#feature selection\n",
    "features = data[['baseMean', 'log2FoldChange', 'pvalue']]\n",
    "targets = {'NSCLC': data['NSCLC'], 'SCLC': data['SCLC']}"
   ]
  },
  {
   "cell_type": "code",
   "execution_count": null,
   "id": "8e9bd90d-605a-43f1-af50-cdd8a0b4359e",
   "metadata": {},
   "outputs": [],
   "source": [
    "#EDA\n",
    "#histograms and correlation matrix\n",
    "features.hist(bins=15, figsize=(15, 6), layout=(2, 2))\n",
    "plt.show()\n",
    "sns.heatmap(features.corr(), annot=True)\n",
    "plt.show()"
   ]
  },
  {
   "cell_type": "code",
   "execution_count": null,
   "id": "1ae51af9-4174-4f78-9748-5ec9e61a06b1",
   "metadata": {},
   "outputs": [],
   "source": [
    "#SMOTE and data splitting\n",
    "def split_and_resample(features, target, test_size=0.4, random_state=42):\n",
    "    x_train, x_temp, y_train, y_temp = train_test_split(features, target, test_size=test_size, random_state=random_state)\n",
    "    smote = SMOTE()\n",
    "    x_train_res, y_train_res = smote.fit_resample(x_train, y_train)\n",
    "    x_test, x_val, y_test, y_val = train_test_split(x_temp, y_temp, test_size=0.5, random_state=random_state)\n",
    "    return x_train_res, x_test, x_val, y_train_res, y_test, y_val\n",
    "\n",
    "data_nsclc = split_and_resample(features, targets['NSCLC'])\n",
    "data_sclc = split_and_resample(features, targets['SCLC'])"
   ]
  },
  {
   "cell_type": "code",
   "execution_count": null,
   "id": "da87f418-cda3-4f31-b596-54580eff3f40",
   "metadata": {},
   "outputs": [],
   "source": [
    "#random forest pipeline\n",
    "pipeline = ImbPipeline([\n",
    "    ('scaler', StandardScaler()),  \n",
    "    ('rf', RandomForestClassifier(class_weight='balanced', n_jobs=-1))  #n_jobs=-1 uses all available cores\n",
    "])\n",
    "\n",
    "#parameter grid for random forest\n",
    "param_grid_rf = {\n",
    "    'rf__n_estimators': [100, 200, 300],  \n",
    "    'rf__criterion': ['gini', 'entropy'],  \n",
    "    'rf__max_depth': [None, 10, 20],  \n",
    "    'rf__min_samples_split': [2, 5, 10],  \n",
    "    'rf__min_samples_leaf': [1, 2, 4],  \n",
    "    'rf__max_features': ['sqrt', 'log2'],  \n",
    "    'rf__max_leaf_nodes': [None, 50, 100],  \n",
    "    'rf__min_impurity_decrease': [0.0, 0.1, 0.2],  \n",
    "    'rf__bootstrap': [True, False],  \n",
    "    'rf__oob_score': [False, True],  \n",
    "    'rf__random_state': [None, 42, 123],  \n",
    "    'rf__verbose': [0, 1],  \n",
    "    'rf__warm_start': [False, True],  \n",
    "    'rf__class_weight': [None, 'balanced'],  \n",
    "    'rf__ccp_alpha': [0.0, 0.1, 0.2],  \n",
    "    'rf__max_samples': [None, 0.7, 0.8]  \n",
    "}\n"
   ]
  },
  {
   "cell_type": "code",
   "execution_count": null,
   "id": "aaadcd2a-5672-442a-924f-660e664fca2a",
   "metadata": {},
   "outputs": [],
   "source": [
    "#function for GridSearchCV and model evaluation\n",
    "def evaluate_random_forest(data, param_grid):\n",
    "    grid_search = GridSearchCV(estimator=pipeline, param_grid=param_grid, scoring='f1', cv=5, verbose=1, n_jobs=-1)\n",
    "    grid_search.fit(data[0], data[3])  #fit on training data\n",
    "    best_params = grid_search.best_params_\n",
    "    best_score = grid_search.best_score_\n",
    "    best_rf = pipeline.set_params(**best_params)\n",
    "    best_rf.fit(data[0], data[3])  #refit on training data\n",
    "    y_val_pred = best_rf.predict(data[2])  #predict on validation data\n",
    "    report = classification_report(data[5], y_val_pred)\n",
    "    return best_params, best_score, report"
   ]
  },
  {
   "cell_type": "code",
   "execution_count": null,
   "id": "20f5780a-2552-4225-8877-f5e5b2a679fd",
   "metadata": {},
   "outputs": [],
   "source": [
    "#evaluate for NSCLC\n",
    "best_params_nsclc, best_score_nsclc, report_nsclc = evaluate_random_forest(data_nsclc, param_grid_rf)\n",
    "print(\"Best Parameters for NSCLC:\", best_params_nsclc)\n",
    "print(\"Best F1 Score for NSCLC:\", best_score_nsclc)\n",
    "print(\"Classification Report for NSCLC (Validation Data):\\n\", report_nsclc)"
   ]
  },
  {
   "cell_type": "code",
   "execution_count": null,
   "id": "1ca5b4d6-6d66-48a2-bb0c-ad322034dc73",
   "metadata": {},
   "outputs": [],
   "source": [
    "#evaluate for SCLC\n",
    "best_params_sclc, best_score_sclc, report_sclc = evaluate_random_forest(data_sclc, param_grid_rf)\n",
    "print(\"Best Parameters for SCLC:\", best_params_sclc)\n",
    "print(\"Best F1 Score for SCLC:\", best_score_sclc)\n",
    "print(\"Classification Report for SCLC (Validation Data):\\n\", report_sclc)"
   ]
  }
 ],
 "metadata": {
  "kernelspec": {
   "display_name": "Python 3 (ipykernel)",
   "language": "python",
   "name": "python3"
  },
  "language_info": {
   "codemirror_mode": {
    "name": "ipython",
    "version": 3
   },
   "file_extension": ".py",
   "mimetype": "text/x-python",
   "name": "python",
   "nbconvert_exporter": "python",
   "pygments_lexer": "ipython3",
   "version": "3.9.18"
  }
 },
 "nbformat": 4,
 "nbformat_minor": 5
}
