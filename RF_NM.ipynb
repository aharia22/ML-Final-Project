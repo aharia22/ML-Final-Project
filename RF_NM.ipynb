{
  "cells": [
    {
      "cell_type": "code",
      "source": [
        "from google.colab import drive\n",
        "drive.mount('/content/drive')\n"
      ],
      "metadata": {
        "colab": {
          "base_uri": "https://localhost:8080/"
        },
        "id": "dlV9LhAYX8NK",
        "outputId": "3961eb2e-f99f-42b0-d94a-de78294c05c9"
      },
      "id": "dlV9LhAYX8NK",
      "execution_count": 1,
      "outputs": [
        {
          "output_type": "stream",
          "name": "stdout",
          "text": [
            "Mounted at /content/drive\n"
          ]
        }
      ]
    },
    {
      "cell_type": "code",
      "execution_count": 2,
      "id": "d2b1d10d-868f-4b29-b48a-8482c2e887b9",
      "metadata": {
        "id": "d2b1d10d-868f-4b29-b48a-8482c2e887b9"
      },
      "outputs": [],
      "source": [
        "import pandas as pd\n",
        "import numpy as np\n",
        "import seaborn as sns\n",
        "import matplotlib.pyplot as plt\n",
        "from imblearn.over_sampling import SMOTE\n",
        "from sklearn.model_selection import train_test_split, GridSearchCV\n",
        "from sklearn.model_selection import RandomizedSearchCV\n",
        "from sklearn.preprocessing import StandardScaler\n",
        "from sklearn.ensemble import RandomForestClassifier\n",
        "from collections import Counter\n",
        "from imblearn.under_sampling import NearMiss\n",
        "from imblearn.pipeline import Pipeline as ImbPipeline\n",
        "from sklearn.metrics import classification_report, confusion_matrix\n",
        "import warnings\n",
        "warnings.filterwarnings('ignore')\n",
        "warnings.filterwarnings(\"ignore\", category=UserWarning, module=\"joblib\")\n",
        "warnings.filterwarnings(\"ignore\", category=UserWarning, module=\"sklearn\")\n",
        "warnings.filterwarnings('ignore', category=UserWarning, message=\"Line Search failed\")"
      ]
    },
    {
      "cell_type": "code",
      "execution_count": 3,
      "id": "63597d88-f48a-41c0-9afc-1d7199707141",
      "metadata": {
        "colab": {
          "base_uri": "https://localhost:8080/"
        },
        "id": "63597d88-f48a-41c0-9afc-1d7199707141",
        "outputId": "9945a2a8-f527-4a32-ab93-914080b6985a"
      },
      "outputs": [
        {
          "output_type": "stream",
          "name": "stdout",
          "text": [
            "      Name        FC     logFC    logCPM   P-Value       FDR  SCLC  NSCLC\n",
            "0  KRT16P5 -1.474275 -0.560006 -2.065784  0.423250  0.645529   0.0    0.0\n",
            "1  KRT16P3 -1.158475 -0.212227  0.698547  0.598622  0.779482   0.0    0.0\n",
            "2  KRT16P2  1.785481  0.836313  3.744968  0.060200  0.211667   0.0    0.0\n",
            "3  KRT16P6 -2.534136 -1.341494  0.404997  0.023716  0.123727   0.0    0.0\n",
            "4    CRHBP  1.441891  0.527962 -0.015277  0.034942  0.153404   0.0    0.0\n",
            "Name       0\n",
            "FC         0\n",
            "logFC      0\n",
            "logCPM     0\n",
            "P-Value    0\n",
            "FDR        0\n",
            "SCLC       0\n",
            "NSCLC      0\n",
            "dtype: int64\n"
          ]
        }
      ],
      "source": [
        "#load data and preprocess\n",
        "data = pd.read_csv(\"/content/drive/MyDrive/ML_HW_4_5/labelled data.csv\",index_col=0).fillna(0)\n",
        "print(data.head())\n",
        "print(data.isnull().sum())"
      ]
    },
    {
      "cell_type": "code",
      "source": [
        "print(data.shape)\n",
        "print()\n",
        "print(data.describe)\n",
        "print()\n",
        "print(data.info)\n",
        "print()\n",
        "print(data.duplicated())\n",
        "print()\n",
        "print(data.dtypes)"
      ],
      "metadata": {
        "colab": {
          "base_uri": "https://localhost:8080/"
        },
        "id": "mCs7A_6I6mOI",
        "outputId": "92c04189-37b4-4afd-9eb9-d4a45c28291e"
      },
      "id": "mCs7A_6I6mOI",
      "execution_count": 4,
      "outputs": [
        {
          "output_type": "stream",
          "name": "stdout",
          "text": [
            "(19778, 8)\n",
            "\n",
            "<bound method NDFrame.describe of                Name        FC     logFC    logCPM   P-Value       FDR  SCLC  \\\n",
            "0           KRT16P5 -1.474275 -0.560006 -2.065784  0.423250  0.645529   0.0   \n",
            "1           KRT16P3 -1.158475 -0.212227  0.698547  0.598622  0.779482   0.0   \n",
            "2           KRT16P2  1.785481  0.836313  3.744968  0.060200  0.211667   0.0   \n",
            "3           KRT16P6 -2.534136 -1.341494  0.404997  0.023716  0.123727   0.0   \n",
            "4             CRHBP  1.441891  0.527962 -0.015277  0.034942  0.153404   0.0   \n",
            "...             ...       ...       ...       ...       ...       ...   ...   \n",
            "19773  LOC105369958  2.196994  1.135531  1.382694  0.003199  0.040235   0.0   \n",
            "19774         ABCC2  3.461301  1.791314  5.336636  0.000671  0.015864   0.0   \n",
            "19775         TRAV6  3.849574  1.944699 -0.401490  0.000016  0.001372   0.0   \n",
            "19776  LOC105369904  2.226049  1.154485 -1.006838  0.002616  0.035713   0.0   \n",
            "19777  LOC101928636  2.279563  1.188757  0.151617  0.000219  0.007721   0.0   \n",
            "\n",
            "       NSCLC  \n",
            "0        0.0  \n",
            "1        0.0  \n",
            "2        0.0  \n",
            "3        0.0  \n",
            "4        0.0  \n",
            "...      ...  \n",
            "19773    0.0  \n",
            "19774    0.0  \n",
            "19775    0.0  \n",
            "19776    0.0  \n",
            "19777    0.0  \n",
            "\n",
            "[19778 rows x 8 columns]>\n",
            "\n",
            "<bound method DataFrame.info of                Name        FC     logFC    logCPM   P-Value       FDR  SCLC  \\\n",
            "0           KRT16P5 -1.474275 -0.560006 -2.065784  0.423250  0.645529   0.0   \n",
            "1           KRT16P3 -1.158475 -0.212227  0.698547  0.598622  0.779482   0.0   \n",
            "2           KRT16P2  1.785481  0.836313  3.744968  0.060200  0.211667   0.0   \n",
            "3           KRT16P6 -2.534136 -1.341494  0.404997  0.023716  0.123727   0.0   \n",
            "4             CRHBP  1.441891  0.527962 -0.015277  0.034942  0.153404   0.0   \n",
            "...             ...       ...       ...       ...       ...       ...   ...   \n",
            "19773  LOC105369958  2.196994  1.135531  1.382694  0.003199  0.040235   0.0   \n",
            "19774         ABCC2  3.461301  1.791314  5.336636  0.000671  0.015864   0.0   \n",
            "19775         TRAV6  3.849574  1.944699 -0.401490  0.000016  0.001372   0.0   \n",
            "19776  LOC105369904  2.226049  1.154485 -1.006838  0.002616  0.035713   0.0   \n",
            "19777  LOC101928636  2.279563  1.188757  0.151617  0.000219  0.007721   0.0   \n",
            "\n",
            "       NSCLC  \n",
            "0        0.0  \n",
            "1        0.0  \n",
            "2        0.0  \n",
            "3        0.0  \n",
            "4        0.0  \n",
            "...      ...  \n",
            "19773    0.0  \n",
            "19774    0.0  \n",
            "19775    0.0  \n",
            "19776    0.0  \n",
            "19777    0.0  \n",
            "\n",
            "[19778 rows x 8 columns]>\n",
            "\n",
            "0        False\n",
            "1        False\n",
            "2        False\n",
            "3        False\n",
            "4        False\n",
            "         ...  \n",
            "19773    False\n",
            "19774    False\n",
            "19775    False\n",
            "19776    False\n",
            "19777    False\n",
            "Length: 19778, dtype: bool\n",
            "\n",
            "Name        object\n",
            "FC         float64\n",
            "logFC      float64\n",
            "logCPM     float64\n",
            "P-Value    float64\n",
            "FDR        float64\n",
            "SCLC       float64\n",
            "NSCLC      float64\n",
            "dtype: object\n"
          ]
        }
      ]
    },
    {
      "cell_type": "code",
      "source": [
        "print(data.columns[data.isna().any()])\n",
        "print()"
      ],
      "metadata": {
        "colab": {
          "base_uri": "https://localhost:8080/"
        },
        "id": "qfXHs_Hy6pP3",
        "outputId": "26edde7a-6174-4c1f-ba99-f08379cd705a"
      },
      "id": "qfXHs_Hy6pP3",
      "execution_count": 5,
      "outputs": [
        {
          "output_type": "stream",
          "name": "stdout",
          "text": [
            "Index([], dtype='object')\n",
            "\n"
          ]
        }
      ]
    },
    {
      "cell_type": "code",
      "source": [
        "correlation_matrix = data.corr()\n",
        "# Create a heatmap using Seaborn\n",
        "plt.figure(figsize=(10, 8))\n",
        "sns.heatmap(correlation_matrix, annot=True, cmap=\"coolwarm\", fmt=\".2f\", linewidths=.5)\n",
        "plt.title(\"Correlation Matrix\")\n",
        "plt.show()"
      ],
      "metadata": {
        "colab": {
          "base_uri": "https://localhost:8080/",
          "height": 699
        },
        "id": "f4DIAfhd6wiV",
        "outputId": "04377427-7af3-4624-ab1b-995a77a1ea8f"
      },
      "id": "f4DIAfhd6wiV",
      "execution_count": 6,
      "outputs": [
        {
          "output_type": "display_data",
          "data": {
            "text/plain": [
              "<Figure size 1000x800 with 2 Axes>"
            ],
            "image/png": "[encoded data removed]"
          },
          "metadata": {}
        }
      ]
    },
    {
      "cell_type": "code",
      "execution_count": 7,
      "id": "e2d61a8f-9b18-4b6e-b776-c4d0d9e6b891",
      "metadata": {
        "id": "e2d61a8f-9b18-4b6e-b776-c4d0d9e6b891"
      },
      "outputs": [],
      "source": [
        "#feature selection\n",
        "features = data[['FC', 'logFC', 'P-Value']]\n",
        "targets = {'NSCLC': data['NSCLC'], 'SCLC': data['SCLC']}"
      ]
    },
    {
      "cell_type": "code",
      "source": [
        "nsclc = data['NSCLC']\n",
        "sclc = data['SCLC']"
      ],
      "metadata": {
        "id": "OoVONtzu7NTD"
      },
      "id": "OoVONtzu7NTD",
      "execution_count": 8,
      "outputs": []
    },
    {
      "cell_type": "code",
      "source": [
        "nm = NearMiss()\n",
        "print('SCLC Original Shape:', Counter(sclc))\n",
        "features_nm_sclc, nm_sclc = nm.fit_resample(features, sclc)\n",
        "print('SCLC Resample Shape:', Counter(nm_sclc))\n",
        "print('NSCLC Original Shape:', Counter(nsclc))\n",
        "features_nm_nsclc, nm_nsclc = nm.fit_resample(features, nsclc)\n",
        "print('NSCLC Resample Shape:', Counter(nm_nsclc))"
      ],
      "metadata": {
        "colab": {
          "base_uri": "https://localhost:8080/"
        },
        "id": "Yr9LsDXb7kQk",
        "outputId": "a158631f-0e98-46f6-e717-ec8413b86b50"
      },
      "id": "Yr9LsDXb7kQk",
      "execution_count": 9,
      "outputs": [
        {
          "output_type": "stream",
          "name": "stdout",
          "text": [
            "SCLC Original Shape: Counter({0.0: 18857, 1.0: 921})\n",
            "SCLC Resample Shape: Counter({0.0: 921, 1.0: 921})\n",
            "NSCLC Original Shape: Counter({0.0: 19087, 1.0: 691})\n",
            "NSCLC Resample Shape: Counter({0.0: 691, 1.0: 691})\n"
          ]
        }
      ]
    },
    {
      "cell_type": "code",
      "source": [
        "features_sclc = features_nm_sclc\n",
        "features_nsclc = features_nm_nsclc\n",
        "sclc = nm_sclc\n",
        "nsclc = nm_nsclc"
      ],
      "metadata": {
        "id": "BVeBjCmw9AKc"
      },
      "id": "BVeBjCmw9AKc",
      "execution_count": 10,
      "outputs": []
    },
    {
      "cell_type": "code",
      "execution_count": 11,
      "id": "8e9bd90d-605a-43f1-af50-cdd8a0b4359e",
      "metadata": {
        "colab": {
          "base_uri": "https://localhost:8080/",
          "height": 963
        },
        "id": "8e9bd90d-605a-43f1-af50-cdd8a0b4359e",
        "outputId": "bb952016-a4e6-4bee-8d57-2c026b5e69f7"
      },
      "outputs": [
        {
          "output_type": "display_data",
          "data": {
            "text/plain": [
              "<Figure size 1500x600 with 4 Axes>"
            ],
            "image/png": "[encoded data removed]"
          },
          "metadata": {}
        },
        {
          "output_type": "display_data",
          "data": {
            "text/plain": [
              "<Figure size 640x480 with 2 Axes>"
            ],
            "image/png": "[encoded data removed]"
          },
          "metadata": {}
        }
      ],
      "source": [
        "#EDA\n",
        "#histograms and correlation matrix\n",
        "features.hist(bins=15, figsize=(15, 6), layout=(2, 2))\n",
        "plt.show()\n",
        "sns.heatmap(features.corr(), annot=True)\n",
        "plt.show()"
      ]
    },
    {
      "cell_type": "code",
      "execution_count": 12,
      "id": "1ae51af9-4174-4f78-9748-5ec9e61a06b1",
      "metadata": {
        "id": "1ae51af9-4174-4f78-9748-5ec9e61a06b1"
      },
      "outputs": [],
      "source": [
        "\n",
        "#data splitting\n",
        "def train_test_and_standardize(features, target, test_size=0.2, random_state=42):\n",
        "    # Split the data into train and test sets\n",
        "    x_train, x_test, y_train, y_test = train_test_split(features, target, test_size=test_size, random_state=random_state)\n",
        "\n",
        "    # Standardize the features using StandardScaler\n",
        "    scaler = StandardScaler()\n",
        "    x_train = scaler.fit_transform(x_train)\n",
        "    x_test = scaler.transform(x_test)\n",
        "\n",
        "    return x_train, x_test, y_train, y_test"
      ]
    },
    {
      "cell_type": "code",
      "source": [
        "xtrain_sclc, xtest_sclc, ytrain_sclc, ytest_sclc = train_test_and_standardize(features_sclc, sclc)\n",
        "xtrain_nsclc, xtest_nsclc, ytrain_nsclc, ytest_nsclc = train_test_and_standardize(features_nsclc, nsclc)"
      ],
      "metadata": {
        "id": "SkKbZBLJ-HRB"
      },
      "id": "SkKbZBLJ-HRB",
      "execution_count": 13,
      "outputs": []
    },
    {
      "cell_type": "code",
      "execution_count": 14,
      "id": "da87f418-cda3-4f31-b596-54580eff3f40",
      "metadata": {
        "id": "da87f418-cda3-4f31-b596-54580eff3f40"
      },
      "outputs": [],
      "source": [
        "# Random forest pipeline\n",
        "pipeline = ImbPipeline([\n",
        "    ('scaler', StandardScaler()),\n",
        "    ('rf', RandomForestClassifier(class_weight='balanced', n_jobs=-1))\n",
        "])\n",
        "# Parameter grid for random forest\n",
        "param_grid_rf = {\n",
        "    'rf__n_estimators': [int(x) for x in np.linspace(start=200, stop=2000, num=10)],\n",
        "    'rf__criterion': ['gini', 'entropy'],\n",
        "    'rf__max_depth': [int(x) for x in np.linspace(10, 110, num=11)],\n",
        "    'rf__min_samples_split': [2, 5, 10],\n",
        "    'rf__min_samples_leaf': [1, 2, 4],\n",
        "    'rf__bootstrap': [True, False],\n",
        "}"
      ]
    },
    {
      "cell_type": "code",
      "execution_count": 15,
      "id": "aaadcd2a-5672-442a-924f-660e664fca2a",
      "metadata": {
        "id": "aaadcd2a-5672-442a-924f-660e664fca2a"
      },
      "outputs": [],
      "source": [
        "#RandomForest\n",
        "def evaluate_random_forest(x_train, y_train, x_test, y_test, param_grid):\n",
        "    grid_search = RandomizedSearchCV(estimator=pipeline, param_distributions=param_grid, n_iter=100, cv=3, verbose=1, n_jobs=-1)\n",
        "    grid_search.fit(x_train, y_train)\n",
        "    best_params = grid_search.best_params_\n",
        "    best_score = grid_search.best_score_\n",
        "    best_rf = pipeline.set_params(**best_params)\n",
        "    best_rf.fit(x_train, y_train)\n",
        "    y_test_pred = best_rf.predict(x_test)\n",
        "    report = classification_report(y_test, y_test_pred)\n",
        "    return best_params, best_score, report, y_test_pred"
      ]
    },
    {
      "cell_type": "code",
      "execution_count": 16,
      "id": "20f5780a-2552-4225-8877-f5e5b2a679fd",
      "metadata": {
        "colab": {
          "base_uri": "https://localhost:8080/"
        },
        "id": "20f5780a-2552-4225-8877-f5e5b2a679fd",
        "outputId": "1e8080f7-cbb0-4292-ea0d-39b41497fee3"
      },
      "outputs": [
        {
          "output_type": "stream",
          "name": "stdout",
          "text": [
            "Fitting 3 folds for each of 100 candidates, totalling 300 fits\n",
            "Best Parameters for NSCLC: {'rf__n_estimators': 1000, 'rf__min_samples_split': 2, 'rf__min_samples_leaf': 2, 'rf__max_depth': 50, 'rf__criterion': 'gini', 'rf__bootstrap': True}\n",
            "Best F1 Score for NSCLC: 0.8398310160637839\n",
            "Classification Report for NSCLC (Test Data):\n",
            "               precision    recall  f1-score   support\n",
            "\n",
            "         0.0       0.79      0.90      0.84       142\n",
            "         1.0       0.88      0.74      0.80       135\n",
            "\n",
            "    accuracy                           0.82       277\n",
            "   macro avg       0.83      0.82      0.82       277\n",
            "weighted avg       0.83      0.82      0.82       277\n",
            "\n"
          ]
        }
      ],
      "source": [
        "#Evaluate for NSCLC\n",
        "best_params_nsclc, best_score_nsclc, report_nsclc, y_test_pred_nsclc = evaluate_random_forest(xtrain_nsclc, ytrain_nsclc, xtest_nsclc, ytest_nsclc, param_grid_rf)\n",
        "print(\"Best Parameters for NSCLC:\", best_params_nsclc)\n",
        "print(\"Best F1 Score for NSCLC:\", best_score_nsclc)\n",
        "print(\"Classification Report for NSCLC (Test Data):\\n\", report_nsclc)\n",
        "cm = confusion_matrix(ytest_nsclc, y_test_pred_nsclc)"
      ]
    },
    {
      "cell_type": "code",
      "source": [
        "# Create a confusion matrix visualization\n",
        "plt.figure(figsize=(10, 7))\n",
        "sns.heatmap(cm, annot=True, fmt='g', cmap='Blues')\n",
        "\n",
        "# Adding labels and title\n",
        "plt.xlabel('Predicted labels')\n",
        "plt.ylabel('True labels')\n",
        "plt.title('Confusion Matrix for NSCLC Model')\n",
        "\n",
        "# Adjust layout\n",
        "plt.tight_layout()\n",
        "\n",
        "# Display the plot\n",
        "plt.show()"
      ],
      "metadata": {
        "colab": {
          "base_uri": "https://localhost:8080/",
          "height": 707
        },
        "id": "mfmbAhhdHNGI",
        "outputId": "44d7a045-9c2e-4692-fe8b-6eee6989305e"
      },
      "id": "mfmbAhhdHNGI",
      "execution_count": 18,
      "outputs": [
        {
          "output_type": "display_data",
          "data": {
            "text/plain": [
              "<Figure size 1000x700 with 2 Axes>"
            ],
            "image/png": "[encoded data removed]"
          },
          "metadata": {}
        }
      ]
    },
    {
      "cell_type": "code",
      "execution_count": 19,
      "id": "1ca5b4d6-6d66-48a2-bb0c-ad322034dc73",
      "metadata": {
        "colab": {
          "base_uri": "https://localhost:8080/"
        },
        "id": "1ca5b4d6-6d66-48a2-bb0c-ad322034dc73",
        "outputId": "0a7dc11d-42f5-4191-ffca-ea87bb6b5f1e"
      },
      "outputs": [
        {
          "output_type": "stream",
          "name": "stdout",
          "text": [
            "Fitting 3 folds for each of 100 candidates, totalling 300 fits\n",
            "Best Parameters for SCLC: {'rf__n_estimators': 200, 'rf__min_samples_split': 10, 'rf__min_samples_leaf': 4, 'rf__max_depth': 70, 'rf__criterion': 'entropy', 'rf__bootstrap': True}\n",
            "Best F1 Score for SCLC: 0.8187372708757638\n",
            "Classification Report for SCLC (Test Data):\n",
            "               precision    recall  f1-score   support\n",
            "\n",
            "         0.0       0.82      0.88      0.85       188\n",
            "         1.0       0.86      0.80      0.83       181\n",
            "\n",
            "    accuracy                           0.84       369\n",
            "   macro avg       0.84      0.84      0.84       369\n",
            "weighted avg       0.84      0.84      0.84       369\n",
            "\n"
          ]
        }
      ],
      "source": [
        "#Evaluate for SCLC\n",
        "best_params_sclc, best_score_sclc, report_sclc, y_test_pred_sclc = evaluate_random_forest(xtrain_sclc, ytrain_sclc, xtest_sclc, ytest_sclc, param_grid_rf)\n",
        "print(\"Best Parameters for SCLC:\", best_params_sclc)\n",
        "print(\"Best F1 Score for SCLC:\", best_score_sclc)\n",
        "print(\"Classification Report for SCLC (Test Data):\\n\", report_sclc)\n",
        "cm_sclc = confusion_matrix(ytest_sclc, y_test_pred_sclc)"
      ]
    },
    {
      "cell_type": "code",
      "source": [
        "# Create a confusion matrix visualization\n",
        "plt.figure(figsize=(10, 7))\n",
        "sns.heatmap(cm_sclc, annot=True, fmt='g', cmap='Blues')\n",
        "\n",
        "# Adding labels and title\n",
        "plt.xlabel('Predicted labels')\n",
        "plt.ylabel('True labels')\n",
        "plt.title('Confusion Matrix for SCLC Model')\n",
        "\n",
        "# Adjust layout\n",
        "plt.tight_layout()\n",
        "\n",
        "# Display the plot\n",
        "plt.show()"
      ],
      "metadata": {
        "colab": {
          "base_uri": "https://localhost:8080/",
          "height": 707
        },
        "id": "r8pSPsQwN1Kn",
        "outputId": "64cba4f1-4bdc-4e69-863c-43986107cbc2"
      },
      "id": "r8pSPsQwN1Kn",
      "execution_count": 20,
      "outputs": [
        {
          "output_type": "display_data",
          "data": {
            "text/plain": [
              "<Figure size 1000x700 with 2 Axes>"
            ],
            "image/png": "[encoded data removed]"
          },
          "metadata": {}
        }
      ]
    },
    {
      "cell_type": "code",
      "source": [
        "test_input = data.iloc[12238:12257,:]\n",
        "test_input"
      ],
      "metadata": {
        "colab": {
          "base_uri": "https://localhost:8080/",
          "height": 645
        },
        "id": "_dO-kmhKjkHT",
        "outputId": "fb726802-57e6-4209-d163-e39d8c8b574d"
      },
      "id": "_dO-kmhKjkHT",
      "execution_count": 21,
      "outputs": [
        {
          "output_type": "execute_result",
          "data": {
            "text/plain": [
              "               Name        FC     logFC    logCPM   P-Value       FDR  SCLC  \\\n",
              "12238          FAR2 -1.036364 -0.051530  6.047611  0.768052  0.889167   0.0   \n",
              "12239          ATF6 -1.074289 -0.103382  8.154670  0.260387  0.490329   1.0   \n",
              "12240          ATF3 -1.197653 -0.260209  6.107613  0.301848  0.533602   1.0   \n",
              "12241     LOC441087  1.365118  0.449026 -1.056675  0.084938  0.258926   0.0   \n",
              "12242         GATA6 -1.275932 -0.351551  4.885739  0.114056  0.305799   0.0   \n",
              "12243        TPRG1L  1.004909  0.007065  4.665519  0.976440  0.994635   0.0   \n",
              "12244         PDGFA -1.243270 -0.314139  4.715532  0.088348  0.265474   1.0   \n",
              "12245         GATA2  1.032892  0.046689  2.803374  0.842767  0.931684   0.0   \n",
              "12246         CIAO3 -1.148757 -0.200073  3.933105  0.075367  0.242021   0.0   \n",
              "12247         CIAO1  1.123722  0.168285  5.935793  0.131505  0.332089   0.0   \n",
              "12248       EPB41L5 -1.504651 -0.589428  7.674006  0.000487  0.012852   0.0   \n",
              "12249         PDGFD -1.260623 -0.334137  5.855667  0.125071  0.322722   1.0   \n",
              "12250       EPB41L2  1.179566  0.238256  7.043599  0.144521  0.350371   0.0   \n",
              "12251         PDGFC -1.506741 -0.591432  7.891498  0.000298  0.009267   1.0   \n",
              "12252  LOC100507053 -1.215763 -0.281862  5.163591  0.148860  0.356350   0.0   \n",
              "12253       EPB41L3  1.221163  0.288255  6.511856  0.165384  0.378512   0.0   \n",
              "12254       PIP5K1A  1.011516  0.016518  7.225447  0.857265  0.939069   0.0   \n",
              "12255       PIP5K1B -1.036260 -0.051386  6.607497  0.810784  0.913194   1.0   \n",
              "12256       PIP5K1C  1.009869  0.014168  5.455605  0.907544  0.961805   1.0   \n",
              "\n",
              "       NSCLC  \n",
              "12238    0.0  \n",
              "12239    0.0  \n",
              "12240    0.0  \n",
              "12241    0.0  \n",
              "12242    0.0  \n",
              "12243    0.0  \n",
              "12244    1.0  \n",
              "12245    0.0  \n",
              "12246    0.0  \n",
              "12247    0.0  \n",
              "12248    0.0  \n",
              "12249    1.0  \n",
              "12250    0.0  \n",
              "12251    1.0  \n",
              "12252    0.0  \n",
              "12253    0.0  \n",
              "12254    0.0  \n",
              "12255    0.0  \n",
              "12256    0.0  "
            ],
            "text/html": [
              "\n",
              "  <div id=\"df-511ec19f-1d08-4daa-b7d3-742e9642471e\" class=\"colab-df-container\">\n",
              "    <div>\n",
              "<style scoped>\n",
              "    .dataframe tbody tr th:only-of-type {\n",
              "        vertical-align: middle;\n",
              "    }\n",
              "\n",
              "    .dataframe tbody tr th {\n",
              "        vertical-align: top;\n",
              "    }\n",
              "\n",
              "    .dataframe thead th {\n",
              "        text-align: right;\n",
              "    }\n",
              "</style>\n",
              "<table border=\"1\" class=\"dataframe\">\n",
              "  <thead>\n",
              "    <tr style=\"text-align: right;\">\n",
              "      <th></th>\n",
              "      <th>Name</th>\n",
              "      <th>FC</th>\n",
              "      <th>logFC</th>\n",
              "      <th>logCPM</th>\n",
              "      <th>P-Value</th>\n",
              "      <th>FDR</th>\n",
              "      <th>SCLC</th>\n",
              "      <th>NSCLC</th>\n",
              "    </tr>\n",
              "  </thead>\n",
              "  <tbody>\n",
              "    <tr>\n",
              "      <th>12238</th>\n",
              "      <td>FAR2</td>\n",
              "      <td>-1.036364</td>\n",
              "      <td>-0.051530</td>\n",
              "      <td>6.047611</td>\n",
              "      <td>0.768052</td>\n",
              "      <td>0.889167</td>\n",
              "      <td>0.0</td>\n",
              "      <td>0.0</td>\n",
              "    </tr>\n",
              "    <tr>\n",
              "      <th>12239</th>\n",
              "      <td>ATF6</td>\n",
              "      <td>-1.074289</td>\n",
              "      <td>-0.103382</td>\n",
              "      <td>8.154670</td>\n",
              "      <td>0.260387</td>\n",
              "      <td>0.490329</td>\n",
              "      <td>1.0</td>\n",
              "      <td>0.0</td>\n",
              "    </tr>\n",
              "    <tr>\n",
              "      <th>12240</th>\n",
              "      <td>ATF3</td>\n",
              "      <td>-1.197653</td>\n",
              "      <td>-0.260209</td>\n",
              "      <td>6.107613</td>\n",
              "      <td>0.301848</td>\n",
              "      <td>0.533602</td>\n",
              "      <td>1.0</td>\n",
              "      <td>0.0</td>\n",
              "    </tr>\n",
              "    <tr>\n",
              "      <th>12241</th>\n",
              "      <td>LOC441087</td>\n",
              "      <td>1.365118</td>\n",
              "      <td>0.449026</td>\n",
              "      <td>-1.056675</td>\n",
              "      <td>0.084938</td>\n",
              "      <td>0.258926</td>\n",
              "      <td>0.0</td>\n",
              "      <td>0.0</td>\n",
              "    </tr>\n",
              "    <tr>\n",
              "      <th>12242</th>\n",
              "      <td>GATA6</td>\n",
              "      <td>-1.275932</td>\n",
              "      <td>-0.351551</td>\n",
              "      <td>4.885739</td>\n",
              "      <td>0.114056</td>\n",
              "      <td>0.305799</td>\n",
              "      <td>0.0</td>\n",
              "      <td>0.0</td>\n",
              "    </tr>\n",
              "    <tr>\n",
              "      <th>12243</th>\n",
              "      <td>TPRG1L</td>\n",
              "      <td>1.004909</td>\n",
              "      <td>0.007065</td>\n",
              "      <td>4.665519</td>\n",
              "      <td>0.976440</td>\n",
              "      <td>0.994635</td>\n",
              "      <td>0.0</td>\n",
              "      <td>0.0</td>\n",
              "    </tr>\n",
              "    <tr>\n",
              "      <th>12244</th>\n",
              "      <td>PDGFA</td>\n",
              "      <td>-1.243270</td>\n",
              "      <td>-0.314139</td>\n",
              "      <td>4.715532</td>\n",
              "      <td>0.088348</td>\n",
              "      <td>0.265474</td>\n",
              "      <td>1.0</td>\n",
              "      <td>1.0</td>\n",
              "    </tr>\n",
              "    <tr>\n",
              "      <th>12245</th>\n",
              "      <td>GATA2</td>\n",
              "      <td>1.032892</td>\n",
              "      <td>0.046689</td>\n",
              "      <td>2.803374</td>\n",
              "      <td>0.842767</td>\n",
              "      <td>0.931684</td>\n",
              "      <td>0.0</td>\n",
              "      <td>0.0</td>\n",
              "    </tr>\n",
              "    <tr>\n",
              "      <th>12246</th>\n",
              "      <td>CIAO3</td>\n",
              "      <td>-1.148757</td>\n",
              "      <td>-0.200073</td>\n",
              "      <td>3.933105</td>\n",
              "      <td>0.075367</td>\n",
              "      <td>0.242021</td>\n",
              "      <td>0.0</td>\n",
              "      <td>0.0</td>\n",
              "    </tr>\n",
              "    <tr>\n",
              "      <th>12247</th>\n",
              "      <td>CIAO1</td>\n",
              "      <td>1.123722</td>\n",
              "      <td>0.168285</td>\n",
              "      <td>5.935793</td>\n",
              "      <td>0.131505</td>\n",
              "      <td>0.332089</td>\n",
              "      <td>0.0</td>\n",
              "      <td>0.0</td>\n",
              "    </tr>\n",
              "    <tr>\n",
              "      <th>12248</th>\n",
              "      <td>EPB41L5</td>\n",
              "      <td>-1.504651</td>\n",
              "      <td>-0.589428</td>\n",
              "      <td>7.674006</td>\n",
              "      <td>0.000487</td>\n",
              "      <td>0.012852</td>\n",
              "      <td>0.0</td>\n",
              "      <td>0.0</td>\n",
              "    </tr>\n",
              "    <tr>\n",
              "      <th>12249</th>\n",
              "      <td>PDGFD</td>\n",
              "      <td>-1.260623</td>\n",
              "      <td>-0.334137</td>\n",
              "      <td>5.855667</td>\n",
              "      <td>0.125071</td>\n",
              "      <td>0.322722</td>\n",
              "      <td>1.0</td>\n",
              "      <td>1.0</td>\n",
              "    </tr>\n",
              "    <tr>\n",
              "      <th>12250</th>\n",
              "      <td>EPB41L2</td>\n",
              "      <td>1.179566</td>\n",
              "      <td>0.238256</td>\n",
              "      <td>7.043599</td>\n",
              "      <td>0.144521</td>\n",
              "      <td>0.350371</td>\n",
              "      <td>0.0</td>\n",
              "      <td>0.0</td>\n",
              "    </tr>\n",
              "    <tr>\n",
              "      <th>12251</th>\n",
              "      <td>PDGFC</td>\n",
              "      <td>-1.506741</td>\n",
              "      <td>-0.591432</td>\n",
              "      <td>7.891498</td>\n",
              "      <td>0.000298</td>\n",
              "      <td>0.009267</td>\n",
              "      <td>1.0</td>\n",
              "      <td>1.0</td>\n",
              "    </tr>\n",
              "    <tr>\n",
              "      <th>12252</th>\n",
              "      <td>LOC100507053</td>\n",
              "      <td>-1.215763</td>\n",
              "      <td>-0.281862</td>\n",
              "      <td>5.163591</td>\n",
              "      <td>0.148860</td>\n",
              "      <td>0.356350</td>\n",
              "      <td>0.0</td>\n",
              "      <td>0.0</td>\n",
              "    </tr>\n",
              "    <tr>\n",
              "      <th>12253</th>\n",
              "      <td>EPB41L3</td>\n",
              "      <td>1.221163</td>\n",
              "      <td>0.288255</td>\n",
              "      <td>6.511856</td>\n",
              "      <td>0.165384</td>\n",
              "      <td>0.378512</td>\n",
              "      <td>0.0</td>\n",
              "      <td>0.0</td>\n",
              "    </tr>\n",
              "    <tr>\n",
              "      <th>12254</th>\n",
              "      <td>PIP5K1A</td>\n",
              "      <td>1.011516</td>\n",
              "      <td>0.016518</td>\n",
              "      <td>7.225447</td>\n",
              "      <td>0.857265</td>\n",
              "      <td>0.939069</td>\n",
              "      <td>0.0</td>\n",
              "      <td>0.0</td>\n",
              "    </tr>\n",
              "    <tr>\n",
              "      <th>12255</th>\n",
              "      <td>PIP5K1B</td>\n",
              "      <td>-1.036260</td>\n",
              "      <td>-0.051386</td>\n",
              "      <td>6.607497</td>\n",
              "      <td>0.810784</td>\n",
              "      <td>0.913194</td>\n",
              "      <td>1.0</td>\n",
              "      <td>0.0</td>\n",
              "    </tr>\n",
              "    <tr>\n",
              "      <th>12256</th>\n",
              "      <td>PIP5K1C</td>\n",
              "      <td>1.009869</td>\n",
              "      <td>0.014168</td>\n",
              "      <td>5.455605</td>\n",
              "      <td>0.907544</td>\n",
              "      <td>0.961805</td>\n",
              "      <td>1.0</td>\n",
              "      <td>0.0</td>\n",
              "    </tr>\n",
              "  </tbody>\n",
              "</table>\n",
              "</div>\n",
              "    <div class=\"colab-df-buttons\">\n",
              "\n",
              "  <div class=\"colab-df-container\">\n",
              "    <button class=\"colab-df-convert\" onclick=\"convertToInteractive('df-511ec19f-1d08-4daa-b7d3-742e9642471e')\"\n",
              "            title=\"Convert this dataframe to an interactive table.\"\n",
              "            style=\"display:none;\">\n",
              "\n",
              "  <svg xmlns=\"http://www.w3.org/2000/svg\" height=\"24px\" viewBox=\"0 -960 960 960\">\n",
              "    <path d=\"M120-120v-720h720v720H120Zm60-500h600v-160H180v160Zm220 220h160v-160H400v160Zm0 220h160v-160H400v160ZM180-400h160v-160H180v160Zm440 0h160v-160H620v160ZM180-180h160v-160H180v160Zm440 0h160v-160H620v160Z\"/>\n",
              "  </svg>\n",
              "    </button>\n",
              "\n",
              "  <style>\n",
              "    .colab-df-container {\n",
              "      display:flex;\n",
              "      gap: 12px;\n",
              "    }\n",
              "\n",
              "    .colab-df-convert {\n",
              "      background-color: #E8F0FE;\n",
              "      border: none;\n",
              "      border-radius: 50%;\n",
              "      cursor: pointer;\n",
              "      display: none;\n",
              "      fill: #1967D2;\n",
              "      height: 32px;\n",
              "      padding: 0 0 0 0;\n",
              "      width: 32px;\n",
              "    }\n",
              "\n",
              "    .colab-df-convert:hover {\n",
              "      background-color: #E2EBFA;\n",
              "      box-shadow: 0px 1px 2px rgba(60, 64, 67, 0.3), 0px 1px 3px 1px rgba(60, 64, 67, 0.15);\n",
              "      fill: #174EA6;\n",
              "    }\n",
              "\n",
              "    .colab-df-buttons div {\n",
              "      margin-bottom: 4px;\n",
              "    }\n",
              "\n",
              "    [theme=dark] .colab-df-convert {\n",
              "      background-color: #3B4455;\n",
              "      fill: #D2E3FC;\n",
              "    }\n",
              "\n",
              "    [theme=dark] .colab-df-convert:hover {\n",
              "      background-color: #434B5C;\n",
              "      box-shadow: 0px 1px 3px 1px rgba(0, 0, 0, 0.15);\n",
              "      filter: drop-shadow(0px 1px 2px rgba(0, 0, 0, 0.3));\n",
              "      fill: #FFFFFF;\n",
              "    }\n",
              "  </style>\n",
              "\n",
              "    <script>\n",
              "      const buttonEl =\n",
              "        document.querySelector('#df-511ec19f-1d08-4daa-b7d3-742e9642471e button.colab-df-convert');\n",
              "      buttonEl.style.display =\n",
              "        google.colab.kernel.accessAllowed ? 'block' : 'none';\n",
              "\n",
              "      async function convertToInteractive(key) {\n",
              "        const element = document.querySelector('#df-511ec19f-1d08-4daa-b7d3-742e9642471e');\n",
              "        const dataTable =\n",
              "          await google.colab.kernel.invokeFunction('convertToInteractive',\n",
              "                                                    [key], {});\n",
              "        if (!dataTable) return;\n",
              "\n",
              "        const docLinkHtml = 'Like what you see? Visit the ' +\n",
              "          '<a target=\"_blank\" href=https://colab.research.google.com/notebooks/data_table.ipynb>data table notebook</a>'\n",
              "          + ' to learn more about interactive tables.';\n",
              "        element.innerHTML = '';\n",
              "        dataTable['output_type'] = 'display_data';\n",
              "        await google.colab.output.renderOutput(dataTable, element);\n",
              "        const docLink = document.createElement('div');\n",
              "        docLink.innerHTML = docLinkHtml;\n",
              "        element.appendChild(docLink);\n",
              "      }\n",
              "    </script>\n",
              "  </div>\n",
              "\n",
              "\n",
              "<div id=\"df-0880d51e-1090-4dd1-b94d-51746b4da238\">\n",
              "  <button class=\"colab-df-quickchart\" onclick=\"quickchart('df-0880d51e-1090-4dd1-b94d-51746b4da238')\"\n",
              "            title=\"Suggest charts\"\n",
              "            style=\"display:none;\">\n",
              "\n",
              "<svg xmlns=\"http://www.w3.org/2000/svg\" height=\"24px\"viewBox=\"0 0 24 24\"\n",
              "     width=\"24px\">\n",
              "    <g>\n",
              "        <path d=\"M19 3H5c-1.1 0-2 .9-2 2v14c0 1.1.9 2 2 2h14c1.1 0 2-.9 2-2V5c0-1.1-.9-2-2-2zM9 17H7v-7h2v7zm4 0h-2V7h2v10zm4 0h-2v-4h2v4z\"/>\n",
              "    </g>\n",
              "</svg>\n",
              "  </button>\n",
              "\n",
              "<style>\n",
              "  .colab-df-quickchart {\n",
              "      --bg-color: #E8F0FE;\n",
              "      --fill-color: #1967D2;\n",
              "      --hover-bg-color: #E2EBFA;\n",
              "      --hover-fill-color: #174EA6;\n",
              "      --disabled-fill-color: #AAA;\n",
              "      --disabled-bg-color: #DDD;\n",
              "  }\n",
              "\n",
              "  [theme=dark] .colab-df-quickchart {\n",
              "      --bg-color: #3B4455;\n",
              "      --fill-color: #D2E3FC;\n",
              "      --hover-bg-color: #434B5C;\n",
              "      --hover-fill-color: #FFFFFF;\n",
              "      --disabled-bg-color: #3B4455;\n",
              "      --disabled-fill-color: #666;\n",
              "  }\n",
              "\n",
              "  .colab-df-quickchart {\n",
              "    background-color: var(--bg-color);\n",
              "    border: none;\n",
              "    border-radius: 50%;\n",
              "    cursor: pointer;\n",
              "    display: none;\n",
              "    fill: var(--fill-color);\n",
              "    height: 32px;\n",
              "    padding: 0;\n",
              "    width: 32px;\n",
              "  }\n",
              "\n",
              "  .colab-df-quickchart:hover {\n",
              "    background-color: var(--hover-bg-color);\n",
              "    box-shadow: 0 1px 2px rgba(60, 64, 67, 0.3), 0 1px 3px 1px rgba(60, 64, 67, 0.15);\n",
              "    fill: var(--button-hover-fill-color);\n",
              "  }\n",
              "\n",
              "  .colab-df-quickchart-complete:disabled,\n",
              "  .colab-df-quickchart-complete:disabled:hover {\n",
              "    background-color: var(--disabled-bg-color);\n",
              "    fill: var(--disabled-fill-color);\n",
              "    box-shadow: none;\n",
              "  }\n",
              "\n",
              "  .colab-df-spinner {\n",
              "    border: 2px solid var(--fill-color);\n",
              "    border-color: transparent;\n",
              "    border-bottom-color: var(--fill-color);\n",
              "    animation:\n",
              "      spin 1s steps(1) infinite;\n",
              "  }\n",
              "\n",
              "  @keyframes spin {\n",
              "    0% {\n",
              "      border-color: transparent;\n",
              "      border-bottom-color: var(--fill-color);\n",
              "      border-left-color: var(--fill-color);\n",
              "    }\n",
              "    20% {\n",
              "      border-color: transparent;\n",
              "      border-left-color: var(--fill-color);\n",
              "      border-top-color: var(--fill-color);\n",
              "    }\n",
              "    30% {\n",
              "      border-color: transparent;\n",
              "      border-left-color: var(--fill-color);\n",
              "      border-top-color: var(--fill-color);\n",
              "      border-right-color: var(--fill-color);\n",
              "    }\n",
              "    40% {\n",
              "      border-color: transparent;\n",
              "      border-right-color: var(--fill-color);\n",
              "      border-top-color: var(--fill-color);\n",
              "    }\n",
              "    60% {\n",
              "      border-color: transparent;\n",
              "      border-right-color: var(--fill-color);\n",
              "    }\n",
              "    80% {\n",
              "      border-color: transparent;\n",
              "      border-right-color: var(--fill-color);\n",
              "      border-bottom-color: var(--fill-color);\n",
              "    }\n",
              "    90% {\n",
              "      border-color: transparent;\n",
              "      border-bottom-color: var(--fill-color);\n",
              "    }\n",
              "  }\n",
              "</style>\n",
              "\n",
              "  <script>\n",
              "    async function quickchart(key) {\n",
              "      const quickchartButtonEl =\n",
              "        document.querySelector('#' + key + ' button');\n",
              "      quickchartButtonEl.disabled = true;  // To prevent multiple clicks.\n",
              "      quickchartButtonEl.classList.add('colab-df-spinner');\n",
              "      try {\n",
              "        const charts = await google.colab.kernel.invokeFunction(\n",
              "            'suggestCharts', [key], {});\n",
              "      } catch (error) {\n",
              "        console.error('Error during call to suggestCharts:', error);\n",
              "      }\n",
              "      quickchartButtonEl.classList.remove('colab-df-spinner');\n",
              "      quickchartButtonEl.classList.add('colab-df-quickchart-complete');\n",
              "    }\n",
              "    (() => {\n",
              "      let quickchartButtonEl =\n",
              "        document.querySelector('#df-0880d51e-1090-4dd1-b94d-51746b4da238 button');\n",
              "      quickchartButtonEl.style.display =\n",
              "        google.colab.kernel.accessAllowed ? 'block' : 'none';\n",
              "    })();\n",
              "  </script>\n",
              "</div>\n",
              "    </div>\n",
              "  </div>\n"
            ]
          },
          "metadata": {},
          "execution_count": 21
        }
      ]
    },
    {
      "cell_type": "code",
      "source": [
        "# Setting up and training the final models\n",
        "rfc_sclc = pipeline.set_params(**best_params_sclc)\n",
        "rfc_sclc.fit(xtrain_sclc, ytrain_sclc)\n",
        "\n",
        "rfc_nsclc = pipeline.set_params(**best_params_nsclc)\n",
        "rfc_nsclc.fit(xtrain_nsclc, ytrain_nsclc)\n",
        "\n",
        "\n",
        "def predict_biomarkers(test_input):\n",
        "    # Assuming 'Name', 'FC', 'P-Value', 'SCLC', and 'NSCLC' are present in the DataFrame\n",
        "\n",
        "    test_input['NSCLC'] = test_input['NSCLC'].fillna(0)\n",
        "    test_input['SCLC'] = test_input['SCLC'].fillna(0)\n",
        "\n",
        "    # Selecting the desired columns for test_x\n",
        "    text_x = test_input[['FC', 'logFC', 'P-Value']]\n",
        "\n",
        "    # Selecting the desired column for test_y_sclc\n",
        "    test_y_sclc = test_input['SCLC']\n",
        "\n",
        "    # Selecting the desired column for test_y_nsclc\n",
        "    test_y_nsclc = test_input['NSCLC']\n",
        "\n",
        "    sc_x = StandardScaler()\n",
        "    test_x = sc_x.fit_transform(text_x)\n",
        "\n",
        "    rfc_predict_sclc = np.array(rfc_sclc.predict(test_x))\n",
        "    rfc_predict_nsclc = np.array(rfc_nsclc.predict(test_x))\n",
        "    common_biomarkers = (rfc_predict_sclc == 1) & (rfc_predict_nsclc == 1)\n",
        "    common_biomarkers = common_biomarkers.astype(int)\n",
        "\n",
        "    return rfc_predict_sclc, rfc_predict_nsclc, common_biomarkers\n",
        "\n",
        "rfc_predict_sclc, rfc_predict_nsclc, common_biomarkers = predict_biomarkers(test_input)\n",
        "\n",
        "# Print the predicted biomarkers\n",
        "print(\"SCLC Biomarkers\")\n",
        "for (i, val) in enumerate(rfc_predict_sclc):\n",
        "    if val == 1:\n",
        "        if test_input.iloc[i, :]['SCLC'] == 1.0:\n",
        "            print(test_input.iloc[i, :]['Name'])\n",
        "\n",
        "print(\"\\nNSCLC Biomarkers\")\n",
        "for (i, val) in enumerate(rfc_predict_nsclc):\n",
        "    if val == 1:\n",
        "        if test_input.iloc[i, :]['NSCLC'] == 1.0:\n",
        "            print(test_input.iloc[i, :]['Name'])\n",
        "\n",
        "print(\"\\nCommon Biomarkers\")\n",
        "for (i, val) in enumerate(common_biomarkers):\n",
        "    if val == 1:\n",
        "        if test_input.iloc[i, :]['SCLC'] == 1.0 and test_input.iloc[i, :]['NSCLC'] == 1.0:\n",
        "            print(test_input.iloc[i, :]['Name'])"
      ],
      "metadata": {
        "colab": {
          "base_uri": "https://localhost:8080/"
        },
        "id": "PEyx8aR9joSK",
        "outputId": "0adfcb55-7223-45d0-9524-2948d9454347"
      },
      "id": "PEyx8aR9joSK",
      "execution_count": 22,
      "outputs": [
        {
          "output_type": "stream",
          "name": "stdout",
          "text": [
            "SCLC Biomarkers\n",
            "ATF6\n",
            "ATF3\n",
            "PDGFA\n",
            "PDGFD\n",
            "PDGFC\n",
            "PIP5K1C\n",
            "\n",
            "NSCLC Biomarkers\n",
            "PDGFA\n",
            "PDGFD\n",
            "PDGFC\n",
            "\n",
            "Common Biomarkers\n",
            "PDGFA\n",
            "PDGFD\n",
            "PDGFC\n"
          ]
        }
      ]
    }
  ],
  "metadata": {
    "kernelspec": {
      "display_name": "Python 3 (ipykernel)",
      "language": "python",
      "name": "python3"
    },
    "language_info": {
      "codemirror_mode": {
        "name": "ipython",
        "version": 3
      },
      "file_extension": ".py",
      "mimetype": "text/x-python",
      "name": "python",
      "nbconvert_exporter": "python",
      "pygments_lexer": "ipython3",
      "version": "3.9.18"
    },
    "colab": {
      "provenance": []
    }
  },
  "nbformat": 4,
  "nbformat_minor": 5
}