{
 "cells": [
  {
   "cell_type": "code",
   "execution_count": null,
   "id": "3fb9958c-527b-47ca-a515-fc2ffc560f48",
   "metadata": {},
   "outputs": [],
   "source": [
    "import pandas as pd\n",
    "import numpy as np\n",
    "import seaborn as sns\n",
    "import matplotlib.pyplot as plt\n",
    "from imblearn.over_sampling import SMOTE\n",
    "from sklearn.model_selection import train_test_split, GridSearchCV\n",
    "from sklearn.preprocessing import StandardScaler\n",
    "from sklearn.ensemble import AdaBoostClassifier\n",
    "from imblearn.pipeline import Pipeline as ImbPipeline\n",
    "from sklearn.metrics import classification_report\n",
    "from sklearn.tree import DecisionTreeClassifier\n",
    "import warnings\n",
    "warnings.filterwarnings('ignore')\n",
    "warnings.filterwarnings(\"ignore\", category=UserWarning, module=\"joblib\")\n",
    "warnings.filterwarnings(\"ignore\", category=UserWarning, module=\"sklearn\")\n",
    "warnings.filterwarnings('ignore', category=UserWarning, message=\"Line Search failed\")"
   ]
  },
  {
   "cell_type": "code",
   "execution_count": null,
   "id": "23fa808c-e180-4f48-8cd9-09a00a32f799",
   "metadata": {},
   "outputs": [],
   "source": [
    "#load data and preprocess\n",
    "data = pd.read_csv('final_result1.csv').fillna(0)\n",
    "print(data.head())\n",
    "print(data.isnull().sum())"
   ]
  },
  {
   "cell_type": "code",
   "execution_count": null,
   "id": "899e19db-549e-49e5-a0da-7fa1467afff9",
   "metadata": {},
   "outputs": [],
   "source": [
    "#feature selection\n",
    "features = data[['baseMean', 'log2FoldChange', 'pvalue']]\n",
    "targets = {'NSCLC': data['NSCLC'], 'SCLC': data['SCLC']}"
   ]
  },
  {
   "cell_type": "code",
   "execution_count": null,
   "id": "26952ab4-1311-48af-8ca9-3d327b96b9da",
   "metadata": {},
   "outputs": [],
   "source": [
    "#EDA\n",
    "#histograms and correlation matrix\n",
    "features.hist(bins=15, figsize=(15, 6), layout=(2, 2))\n",
    "plt.show()\n",
    "sns.heatmap(features.corr(), annot=True)\n",
    "plt.show()"
   ]
  },
  {
   "cell_type": "code",
   "execution_count": null,
   "id": "b2e91298-7a42-4fef-8c0f-a4a52e48cb01",
   "metadata": {},
   "outputs": [],
   "source": [
    "#SMOTE and data splitting\n",
    "def split_and_resample(features, target, test_size=0.4, random_state=42):\n",
    "    x_train, x_temp, y_train, y_temp = train_test_split(features, target, test_size=test_size, random_state=random_state)\n",
    "    smote = SMOTE()\n",
    "    x_train_res, y_train_res = smote.fit_resample(x_train, y_train)\n",
    "    x_test, x_val, y_test, y_val = train_test_split(x_temp, y_temp, test_size=0.5, random_state=random_state)\n",
    "    return x_train_res, x_test, x_val, y_train_res, y_test, y_val\n",
    "\n",
    "data_nsclc = split_and_resample(features, targets['NSCLC'])\n",
    "data_sclc = split_and_resample(features, targets['SCLC'])"
   ]
  },
  {
   "cell_type": "code",
   "execution_count": null,
   "id": "784fa15e-b3fc-4fe2-b8bb-89dccd210191",
   "metadata": {},
   "outputs": [],
   "source": [
    "#AdaBoost Pipeline\n",
    "base_estimator = DecisionTreeClassifier(max_depth=1)  #base estimator\n",
    "pipeline = ImbPipeline([\n",
    "    ('scaler', StandardScaler()),  \n",
    "    ('adaboost', AdaBoostClassifier(base_estimator=base_estimator))  \n",
    "])\n",
    "\n",
    "#parameter Grid for AdaBoost\n",
    "param_grid_adaboost = {\n",
    "    'adaboost__n_estimators': [50, 100, 200],  \n",
    "    'adaboost__learning_rate': [0.1, 0.5, 1.0],  \n",
    "    'adaboost__algorithm': ['SAMME', 'SAMME.R'],  \n",
    "    'adaboost__random_state': [None, 42, 100]  \n",
    "}"
   ]
  },
  {
   "cell_type": "code",
   "execution_count": null,
   "id": "45807704-f39e-46d8-9715-9e799c989fd6",
   "metadata": {},
   "outputs": [],
   "source": [
    "#function for GridSearchCV and Model Evaluation\n",
    "def evaluate_adaboost(data, param_grid):\n",
    "    grid_search = GridSearchCV(estimator=pipeline, param_grid=param_grid, scoring='f1', cv=5, verbose=1, n_jobs=-1)\n",
    "    grid_search.fit(data[0], data[3])  \n",
    "    best_params = grid_search.best_params_\n",
    "    best_score = grid_search.best_score_\n",
    "    best_adaboost = pipeline.set_params(**best_params)\n",
    "    best_adaboost.fit(data[0], data[3])  \n",
    "    y_val_pred = best_adaboost.predict(data[2])  \n",
    "    report = classification_report(data[5], y_val_pred)\n",
    "    return best_params, best_score, report"
   ]
  },
  {
   "cell_type": "code",
   "execution_count": null,
   "id": "c54aca08-253d-4da3-ac79-f5ab64ab64d9",
   "metadata": {},
   "outputs": [],
   "source": [
    "#evaluate for NSCLC\n",
    "best_params_nsclc, best_score_nsclc, report_nsclc = evaluate_adaboost(data_nsclc, param_grid_adaboost)\n",
    "print(\"Best Parameters for NSCLC:\", best_params_nsclc)\n",
    "print(\"Best F1 Score for NSCLC:\", best_score_nsclc)\n",
    "print(\"Classification Report for NSCLC (Validation Data):\\n\", report_nsclc)"
   ]
  },
  {
   "cell_type": "code",
   "execution_count": null,
   "id": "7d7a9138-6d26-4ea8-a254-7cf99186473f",
   "metadata": {},
   "outputs": [],
   "source": [
    "#evaluate for SCLC\n",
    "best_params_sclc, best_score_sclc, report_sclc = evaluate_adaboost(data_sclc, param_grid_adaboost)\n",
    "print(\"Best Parameters for SCLC:\", best_params_sclc)\n",
    "print(\"Best F1 Score for SCLC:\", best_score_sclc)\n",
    "print(\"Classification Report for SCLC (Validation Data):\\n\", report_sclc)"
   ]
  }
 ],
 "metadata": {
  "kernelspec": {
   "display_name": "Python 3 (ipykernel)",
   "language": "python",
   "name": "python3"
  },
  "language_info": {
   "codemirror_mode": {
    "name": "ipython",
    "version": 3
   },
   "file_extension": ".py",
   "mimetype": "text/x-python",
   "name": "python",
   "nbconvert_exporter": "python",
   "pygments_lexer": "ipython3",
   "version": "3.9.18"
  }
 },
 "nbformat": 4,
 "nbformat_minor": 5
}
