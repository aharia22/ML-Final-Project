{
 "cells": [
  {
   "cell_type": "code",
   "execution_count": null,
   "id": "f3115cd6-d895-44f4-8208-e4d87724ae0c",
   "metadata": {},
   "outputs": [],
   "source": [
    "import pandas as pd\n",
    "import numpy as np\n",
    "import seaborn as sns\n",
    "import matplotlib.pyplot as plt\n",
    "from imblearn.over_sampling import SMOTE\n",
    "from sklearn.model_selection import train_test_split, GridSearchCV\n",
    "from sklearn.preprocessing import StandardScaler\n",
    "from sklearn.svm import SVC\n",
    "from imblearn.pipeline import Pipeline as ImbPipeline\n",
    "from sklearn.metrics import classification_report\n",
    "import warnings\n",
    "warnings.filterwarnings('ignore')\n",
    "warnings.filterwarnings(\"ignore\", category=UserWarning, module=\"joblib\")\n",
    "warnings.filterwarnings(\"ignore\", category=UserWarning, module=\"sklearn\")\n",
    "warnings.filterwarnings('ignore', category=UserWarning, message=\"Line Search failed\")"
   ]
  },
  {
   "cell_type": "code",
   "execution_count": null,
   "id": "d8d256be-ea28-4ffa-bf46-070d5ccddb04",
   "metadata": {},
   "outputs": [],
   "source": [
    "#load data and preprocess\n",
    "data = pd.read_csv('final_result1.csv').fillna(0)\n",
    "print(data.head())\n",
    "print(data.isnull().sum())"
   ]
  },
  {
   "cell_type": "code",
   "execution_count": null,
   "id": "baf54953-e542-4890-9ed0-ddbd448df615",
   "metadata": {},
   "outputs": [],
   "source": [
    "#feature selection\n",
    "features = data[['baseMean', 'log2FoldChange', 'pvalue']]\n",
    "targets = {'NSCLC': data['NSCLC'], 'SCLC': data['SCLC']}"
   ]
  },
  {
   "cell_type": "code",
   "execution_count": null,
   "id": "b390ea26-e172-4d9a-8882-c01199969c8d",
   "metadata": {},
   "outputs": [],
   "source": [
    "#EDA\n",
    "#histograms and correlation matrix\n",
    "features.hist(bins=15, figsize=(15, 6), layout=(2, 2))\n",
    "plt.show()\n",
    "sns.heatmap(features.corr(), annot=True)\n",
    "plt.show()"
   ]
  },
  {
   "cell_type": "code",
   "execution_count": null,
   "id": "3d6a6d18-ad05-4fc7-b814-b0c22cf9768c",
   "metadata": {},
   "outputs": [],
   "source": [
    "#SMOTE and data splitting\n",
    "def split_and_resample(features, target, test_size=0.4, random_state=42):\n",
    "    x_train, x_temp, y_train, y_temp = train_test_split(features, target, test_size=test_size, random_state=random_state)\n",
    "    smote = SMOTE()\n",
    "    x_train_res, y_train_res = smote.fit_resample(x_train, y_train)\n",
    "    x_test, x_val, y_test, y_val = train_test_split(x_temp, y_temp, test_size=0.5, random_state=random_state)\n",
    "    return x_train_res, x_test, x_val, y_train_res, y_test, y_val\n",
    "\n",
    "data_nsclc = split_and_resample(features, targets['NSCLC'])\n",
    "data_sclc = split_and_resample(features, targets['SCLC'])"
   ]
  },
  {
   "cell_type": "code",
   "execution_count": null,
   "id": "812bd780-a9a7-4381-87ef-7d7c7fd0a460",
   "metadata": {},
   "outputs": [],
   "source": [
    "#SVM pipeline\n",
    "pipeline = ImbPipeline([\n",
    "    ('scaler', StandardScaler()),  # Scaling for SVM\n",
    "    ('svm', SVC(class_weight='balanced', probability=True))  # class_weight='balanced' for imbalanced data\n",
    "])\n",
    "\n",
    "#parameter grid \n",
    "param_grid_svm = {\n",
    "    'svm__kernel': ['linear', 'rbf', 'poly'], \n",
    "    'svm__C': [0.1, 1.0, 10.0],  \n",
    "    'svm__degree': [2, 3, 4],  \n",
    "    'svm__gamma': ['scale', 'auto', 0.1, 1.0], \n",
    "    'svm__coef0': [0.0, 0.1, 1.0], \n",
    "    'svm__shrinking': [True, False],  \n",
    "    'svm__probability': [True, False],  \n",
    "    'svm__tol': [1e-4, 1e-3, 1e-2],\n",
    "    'svm__class_weight': [None, 'balanced'],  \n",
    "    'svm__verbose': [0, 1],  \n",
    "    'svm__max_iter': [1000, 2000],  \n",
    "    'svm__random_state': [None, 42]  \n",
    "}\n",
    "\n",
    "#function for GridSearchCV and model evaluation\n",
    "def evaluate_svm(data, param_grid):\n",
    "    grid_search = GridSearchCV(estimator=pipeline, param_grid=param_grid, scoring='f1', cv=5, verbose=1, n_jobs=-1)\n",
    "    grid_search.fit(data[0], data[3])  #fit on training data\n",
    "    best_params = grid_search.best_params_\n",
    "    best_score = grid_search.best_score_\n",
    "    best_svm = pipeline.set_params(**best_params)\n",
    "    best_svm.fit(data[0], data[3])  #refit on training data\n",
    "    y_val_pred = best_svm.predict(data[2])  #predict on validation data\n",
    "    report = classification_report(data[5], y_val_pred)\n",
    "    return best_params, best_score, report"
   ]
  },
  {
   "cell_type": "code",
   "execution_count": null,
   "id": "bda07e5c-ce62-45e5-b847-2d80398e9fb2",
   "metadata": {},
   "outputs": [],
   "source": [
    "#evaluate for NSCLC\n",
    "best_params_nsclc, best_score_nsclc, report_nsclc = evaluate_svm(data_nsclc, param_grid_svm)\n",
    "print(\"Best Parameters for NSCLC:\", best_params_nsclc)\n",
    "print(\"Best F1 Score for NSCLC:\", best_score_nsclc)\n",
    "print(\"Classification Report for NSCLC (Validation Data):\\n\", report_nsclc)"
   ]
  },
  {
   "cell_type": "code",
   "execution_count": null,
   "id": "5df354ba-8a00-4eec-aa43-11a65f8f93ae",
   "metadata": {},
   "outputs": [],
   "source": [
    "#evaluate for SCLC\n",
    "best_params_sclc, best_score_sclc, report_sclc = evaluate_svm(data_sclc, param_grid_svm)\n",
    "print(\"Best Parameters for SCLC:\", best_params_sclc)\n",
    "print(\"Best F1 Score for SCLC:\", best_score_sclc)\n",
    "print(\"Classification Report for SCLC (Validation Data):\\n\", report_sclc)"
   ]
  }
 ],
 "metadata": {
  "kernelspec": {
   "display_name": "Python 3 (ipykernel)",
   "language": "python",
   "name": "python3"
  },
  "language_info": {
   "codemirror_mode": {
    "name": "ipython",
    "version": 3
   },
   "file_extension": ".py",
   "mimetype": "text/x-python",
   "name": "python",
   "nbconvert_exporter": "python",
   "pygments_lexer": "ipython3",
   "version": "3.9.18"
  }
 },
 "nbformat": 4,
 "nbformat_minor": 5
}
