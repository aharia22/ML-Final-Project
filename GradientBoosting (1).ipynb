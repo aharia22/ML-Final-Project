{
 "cells": [
  {
   "cell_type": "code",
   "execution_count": null,
   "id": "6673470e-db27-403d-8830-b4477fc8b6ca",
   "metadata": {},
   "outputs": [],
   "source": [
    "import pandas as pd\n",
    "import numpy as np\n",
    "import seaborn as sns\n",
    "import matplotlib.pyplot as plt\n",
    "from imblearn.over_sampling import SMOTE\n",
    "from sklearn.model_selection import train_test_split, GridSearchCV\n",
    "from sklearn.preprocessing import StandardScaler\n",
    "from sklearn.ensemble import GradientBoostingClassifier\n",
    "from imblearn.pipeline import Pipeline as ImbPipeline\n",
    "from sklearn.metrics import classification_report\n",
    "import warnings\n",
    "warnings.filterwarnings('ignore')\n",
    "warnings.filterwarnings(\"ignore\", category=UserWarning, module=\"joblib\")\n",
    "warnings.filterwarnings(\"ignore\", category=UserWarning, module=\"sklearn\")\n",
    "warnings.filterwarnings('ignore', category=UserWarning, message=\"Line Search failed\")"
   ]
  },
  {
   "cell_type": "code",
   "execution_count": null,
   "id": "21e2199b-7ab7-42cf-8664-150a744bbaae",
   "metadata": {},
   "outputs": [],
   "source": [
    "#load data and preprocess\n",
    "data = pd.read_csv('final_result1.csv').fillna(0)\n",
    "print(data.head())\n",
    "print(data.isnull().sum())"
   ]
  },
  {
   "cell_type": "code",
   "execution_count": null,
   "id": "727e6842-3bc5-4e52-a7d2-fb2fc513d41c",
   "metadata": {},
   "outputs": [],
   "source": [
    "#feature selection\n",
    "features = data[['baseMean', 'log2FoldChange', 'pvalue']]\n",
    "targets = {'NSCLC': data['NSCLC'], 'SCLC': data['SCLC']}"
   ]
  },
  {
   "cell_type": "code",
   "execution_count": null,
   "id": "be436149-9bb1-4c02-8373-2fd80c97f05c",
   "metadata": {},
   "outputs": [],
   "source": [
    "#EDA\n",
    "#histograms and Correlation Matrix\n",
    "features.hist(bins=15, figsize=(15, 6), layout=(2, 2))\n",
    "plt.show()\n",
    "sns.heatmap(features.corr(), annot=True)\n",
    "plt.show()"
   ]
  },
  {
   "cell_type": "code",
   "execution_count": null,
   "id": "1bef77ce-9eb7-444d-963f-47d25ea757c1",
   "metadata": {},
   "outputs": [],
   "source": [
    "#SMOTE and Data Splitting\n",
    "def split_and_resample(features, target, test_size=0.4, random_state=42):\n",
    "    x_train, x_temp, y_train, y_temp = train_test_split(features, target, test_size=test_size, random_state=random_state)\n",
    "    smote = SMOTE()\n",
    "    x_train_res, y_train_res = smote.fit_resample(x_train, y_train)\n",
    "    x_test, x_val, y_test, y_val = train_test_split(x_temp, y_temp, test_size=0.5, random_state=random_state)\n",
    "    return x_train_res, x_test, x_val, y_train_res, y_test, y_val\n",
    "\n",
    "data_nsclc = split_and_resample(features, targets['NSCLC'])\n",
    "data_sclc = split_and_resample(features, targets['SCLC'])"
   ]
  },
  {
   "cell_type": "code",
   "execution_count": null,
   "id": "27fbdfa2-ccfb-4ac4-b09f-e1082e45294c",
   "metadata": {},
   "outputs": [],
   "source": [
    "#gradient boosting pipeline\n",
    "pipeline = ImbPipeline([\n",
    "    ('scaler', StandardScaler()),  #scaling for Gradient Boosting\n",
    "    ('gradient_boosting', GradientBoostingClassifier())  #gradient boosting classifier\n",
    "])\n",
    "\n",
    "#parameter grid for gradient boosting\n",
    "param_grid_gradient_boosting = {\n",
    "    'gradient_boosting__loss': ['deviance', 'exponential'], \n",
    "    'gradient_boosting__learning_rate': [0.1, 0.5, 1.0],  \n",
    "    'gradient_boosting__n_estimators': [100, 200, 300],  \n",
    "    'gradient_boosting__subsample': [1.0, 0.8, 0.6],  \n",
    "    'gradient_boosting__criterion': ['friedman_mse', 'squared_error'],  \n",
    "    'gradient_boosting__min_samples_split': [2, 4, 8],  \n",
    "    'gradient_boosting__min_samples_leaf': [1, 2, 4],  \n",
    "    'gradient_boosting__min_weight_fraction_leaf': [0.0, 0.1, 0.2],  \n",
    "    'gradient_boosting__max_depth': [3, 5, 7],  \n",
    "    'gradient_boosting__min_impurity_decrease': [0.0, 0.1, 0.2],  \n",
    "    'gradient_boosting__init': [None, 'zero'],  \n",
    "    'gradient_boosting__random_state': [None, 42, 100],  \n",
    "    'gradient_boosting__max_features': [None, 'sqrt', 'log2'], \n",
    "    'gradient_boosting__verbose': [0, 1, 2],  \n",
    "    'gradient_boosting__max_leaf_nodes': [None, 5, 10],  \n",
    "    'gradient_boosting__warm_start': [False, True],  \n",
    "    'gradient_boosting__validation_fraction': [0.1, 0.2, 0.3],  \n",
    "    'gradient_boosting__n_iter_no_change': [None, 10, 20],  \n",
    "    'gradient_boosting__tol': [1e-4, 1e-3, 1e-2],  \n",
    "    'gradient_boosting__ccp_alpha': [0.0, 0.1, 0.2]  \n",
    "}\n",
    "\n",
    "\n",
    "#function for GridSearchCV and model evaluation\n",
    "def evaluate_gradient_boosting(data, param_grid):\n",
    "    grid_search = GridSearchCV(estimator=pipeline, param_grid=param_grid, scoring='f1', cv=5, verbose=1, n_jobs=-1)\n",
    "    grid_search.fit(data[0], data[3])  #fit on training data\n",
    "    best_params = grid_search.best_params_\n",
    "    best_score = grid_search.best_score_\n",
    "    best_gradient_boosting = pipeline.set_params(**best_params)\n",
    "    best_gradient_boosting.fit(data[0], data[3])  #refit on training data\n",
    "    y_val_pred = best_gradient_boosting.predict(data[2])  #predict on validation data\n",
    "    report = classification_report(data[5], y_val_pred)\n",
    "    return best_params, best_score, report"
   ]
  },
  {
   "cell_type": "code",
   "execution_count": null,
   "id": "28d9744d-ee67-4ba5-aa2b-d1ec35c0807f",
   "metadata": {},
   "outputs": [],
   "source": [
    "#evaluate for NSCLC\n",
    "best_params_nsclc, best_score_nsclc, report_nsclc = evaluate_gradient_boosting(data_nsclc, param_grid_gradient_boosting)\n",
    "print(\"Best Parameters for NSCLC:\", best_params_nsclc)\n",
    "print(\"Best F1 Score for NSCLC:\", best_score_nsclc)\n",
    "print(\"Classification Report for NSCLC (Validation Data):\\n\", report_nsclc)"
   ]
  },
  {
   "cell_type": "code",
   "execution_count": null,
   "id": "9ef05318-c378-4406-a597-f2d5a107324d",
   "metadata": {},
   "outputs": [],
   "source": [
    "#evaluate for SCLC\n",
    "best_params_sclc, best_score_sclc, report_sclc = evaluate_gradient_boosting(data_sclc, param_grid_gradient_boosting)\n",
    "print(\"Best Parameters for SCLC:\", best_params_sclc)\n",
    "print(\"Best F1 Score for SCLC:\", best_score_sclc)\n",
    "print(\"Classification Report for SCLC (Validation Data):\\n\", report_sclc)"
   ]
  }
 ],
 "metadata": {
  "kernelspec": {
   "display_name": "Python 3 (ipykernel)",
   "language": "python",
   "name": "python3"
  },
  "language_info": {
   "codemirror_mode": {
    "name": "ipython",
    "version": 3
   },
   "file_extension": ".py",
   "mimetype": "text/x-python",
   "name": "python",
   "nbconvert_exporter": "python",
   "pygments_lexer": "ipython3",
   "version": "3.9.18"
  }
 },
 "nbformat": 4,
 "nbformat_minor": 5
}
